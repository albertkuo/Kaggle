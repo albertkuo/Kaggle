{
 "cells": [
  {
   "cell_type": "markdown",
   "metadata": {},
   "source": [
    "VARIABLE DESCRIPTIONS:\n",
    "survival        Survival\n",
    "                (0 = No; 1 = Yes)\n",
    "pclass          Passenger Class\n",
    "                (1 = 1st; 2 = 2nd; 3 = 3rd)\n",
    "name            Name\n",
    "sex             Sex\n",
    "age             Age\n",
    "sibsp           Number of Siblings/Spouses Aboard\n",
    "parch           Number of Parents/Children Aboard\n",
    "ticket          Ticket Number\n",
    "fare            Passenger Fare\n",
    "cabin           Cabin\n",
    "embarked        Port of Embarkation\n",
    "                (C = Cherbourg; Q = Queenstown; S = Southampton)\n",
    "\n",
    "SPECIAL NOTES:\n",
    "Pclass is a proxy for socio-economic status (SES)\n",
    " 1st ~ Upper; 2nd ~ Middle; 3rd ~ Lower\n",
    "\n",
    "Age is in Years; Fractional if Age less than One (1)\n",
    " If the Age is Estimated, it is in the form xx.5\n",
    "\n",
    "With respect to the family relation variables (i.e. sibsp and parch)\n",
    "some relations were ignored.  The following are the definitions used\n",
    "for sibsp and parch.\n",
    "\n",
    "Sibling:  Brother, Sister, Stepbrother, or Stepsister of Passenger Aboard Titanic\n",
    "Spouse:   Husband or Wife of Passenger Aboard Titanic (Mistresses and Fiances Ignored)\n",
    "Parent:   Mother or Father of Passenger Aboard Titanic\n",
    "Child:    Son, Daughter, Stepson, or Stepdaughter of Passenger Aboard Titanic\n",
    "\n",
    "Other family relatives excluded from this study include cousins,\n",
    "nephews/nieces, aunts/uncles, and in-laws.  Some children travelled\n",
    "only with a nanny, therefore parch=0 for them.  As well, some\n",
    "travelled with very close friends or neighbors in a village, however,\n",
    "the definitions do not support such relations."
   ]
  },
  {
   "cell_type": "code",
   "execution_count": 1,
   "metadata": {
    "collapsed": true
   },
   "outputs": [],
   "source": [
    "import pandas as pd\n",
    "import numpy as np\n",
    "import matplotlib.pyplot as plt"
   ]
  },
  {
   "cell_type": "markdown",
   "metadata": {},
   "source": [
    "<h3>Import data</h3>"
   ]
  },
  {
   "cell_type": "code",
   "execution_count": 44,
   "metadata": {
    "collapsed": true
   },
   "outputs": [],
   "source": [
    "# We need to process both the training and test dataset the same way.\n",
    "process_train = 0 # change toggle to 0 or 1 to process test or train\n",
    "if process_train:\n",
    "    filename = 'train.csv'\n",
    "else:\n",
    "    filename = 'test.csv'"
   ]
  },
  {
   "cell_type": "code",
   "execution_count": 45,
   "metadata": {
    "collapsed": false
   },
   "outputs": [
    {
     "data": {
      "text/html": [
       "<div style=\"max-height:1000px;max-width:1500px;overflow:auto;\">\n",
       "<table border=\"1\" class=\"dataframe\">\n",
       "  <thead>\n",
       "    <tr style=\"text-align: right;\">\n",
       "      <th></th>\n",
       "      <th>PassengerId</th>\n",
       "      <th>Pclass</th>\n",
       "      <th>Name</th>\n",
       "      <th>Sex</th>\n",
       "      <th>Age</th>\n",
       "      <th>SibSp</th>\n",
       "      <th>Parch</th>\n",
       "      <th>Ticket</th>\n",
       "      <th>Fare</th>\n",
       "      <th>Cabin</th>\n",
       "      <th>Embarked</th>\n",
       "    </tr>\n",
       "  </thead>\n",
       "  <tbody>\n",
       "    <tr>\n",
       "      <th>0</th>\n",
       "      <td> 892</td>\n",
       "      <td> 3</td>\n",
       "      <td>                 Kelly, Mr. James</td>\n",
       "      <td>   male</td>\n",
       "      <td> 34.5</td>\n",
       "      <td> 0</td>\n",
       "      <td> 0</td>\n",
       "      <td> 330911</td>\n",
       "      <td> 7.8292</td>\n",
       "      <td> NaN</td>\n",
       "      <td> Q</td>\n",
       "    </tr>\n",
       "    <tr>\n",
       "      <th>1</th>\n",
       "      <td> 893</td>\n",
       "      <td> 3</td>\n",
       "      <td> Wilkes, Mrs. James (Ellen Needs)</td>\n",
       "      <td> female</td>\n",
       "      <td> 47.0</td>\n",
       "      <td> 1</td>\n",
       "      <td> 0</td>\n",
       "      <td> 363272</td>\n",
       "      <td> 7.0000</td>\n",
       "      <td> NaN</td>\n",
       "      <td> S</td>\n",
       "    </tr>\n",
       "  </tbody>\n",
       "</table>\n",
       "</div>"
      ],
      "text/plain": [
       "   PassengerId  Pclass                              Name     Sex   Age  SibSp  \\\n",
       "0          892       3                  Kelly, Mr. James    male  34.5      0   \n",
       "1          893       3  Wilkes, Mrs. James (Ellen Needs)  female  47.0      1   \n",
       "\n",
       "   Parch  Ticket    Fare Cabin Embarked  \n",
       "0      0  330911  7.8292   NaN        Q  \n",
       "1      0  363272  7.0000   NaN        S  "
      ]
     },
     "execution_count": 45,
     "metadata": {},
     "output_type": "execute_result"
    }
   ],
   "source": [
    "df = pd.read_csv(filename, header=0)\n",
    "#df.dtypes\n",
    "#df.info()\n",
    "#df.describe()\n",
    "df.head(2)"
   ]
  },
  {
   "cell_type": "markdown",
   "metadata": {},
   "source": [
    "**Data Munging Tutorial**"
   ]
  },
  {
   "cell_type": "code",
   "execution_count": 46,
   "metadata": {
    "collapsed": false
   },
   "outputs": [
    {
     "name": "stdout",
     "output_type": "stream",
     "text": [
      "\n"
     ]
    }
   ],
   "source": [
    "# Obtain first 10 rows of Age column\n",
    "df['Age'][0:10] \n",
    "df.Age[0:10]\n",
    "# Get mean\n",
    "df['Age'].mean()\n",
    "\n",
    "# Obtain subsets \n",
    "df[['Sex', 'Pclass', 'Age']]\n",
    "\n",
    "# Filtering\n",
    "df[df['Age'] > 60]\n",
    "df[df['Age'].isnull()]\n",
    "print ''"
   ]
  },
  {
   "cell_type": "markdown",
   "metadata": {},
   "source": [
    "**Data Cleaning Tutorial**"
   ]
  },
  {
   "cell_type": "code",
   "execution_count": 47,
   "metadata": {
    "collapsed": true
   },
   "outputs": [],
   "source": [
    "# Binarize Sex column\n",
    "df['Gender'] = df['Sex'].map( {'female': 0, 'male': 1} ).astype(int)"
   ]
  },
  {
   "cell_type": "code",
   "execution_count": 48,
   "metadata": {
    "collapsed": false
   },
   "outputs": [],
   "source": [
    "# Numerize Embarked column\n",
    "df['Embarked_Num'] = df['Embarked'].map({'C':1, 'Q':2, 'S':3}).astype(float)"
   ]
  },
  {
   "cell_type": "code",
   "execution_count": 49,
   "metadata": {
    "collapsed": false
   },
   "outputs": [
    {
     "data": {
      "text/html": [
       "<div style=\"max-height:1000px;max-width:1500px;overflow:auto;\">\n",
       "<table border=\"1\" class=\"dataframe\">\n",
       "  <thead>\n",
       "    <tr style=\"text-align: right;\">\n",
       "      <th></th>\n",
       "      <th>Gender</th>\n",
       "      <th>Pclass</th>\n",
       "      <th>Age</th>\n",
       "      <th>AgeFill</th>\n",
       "      <th>AgeIsNull</th>\n",
       "    </tr>\n",
       "  </thead>\n",
       "  <tbody>\n",
       "    <tr>\n",
       "      <th>10</th>\n",
       "      <td> 1</td>\n",
       "      <td> 3</td>\n",
       "      <td>NaN</td>\n",
       "      <td> 24</td>\n",
       "      <td> 1</td>\n",
       "    </tr>\n",
       "    <tr>\n",
       "      <th>22</th>\n",
       "      <td> 0</td>\n",
       "      <td> 1</td>\n",
       "      <td>NaN</td>\n",
       "      <td> 41</td>\n",
       "      <td> 1</td>\n",
       "    </tr>\n",
       "  </tbody>\n",
       "</table>\n",
       "</div>"
      ],
      "text/plain": [
       "    Gender  Pclass  Age  AgeFill  AgeIsNull\n",
       "10       1       3  NaN       24          1\n",
       "22       0       1  NaN       41          1"
      ]
     },
     "execution_count": 49,
     "metadata": {},
     "output_type": "execute_result"
    }
   ],
   "source": [
    "# Find median age of each class\n",
    "median_ages = np.zeros((2,3))\n",
    "for i in range(0, 2):\n",
    "    for j in range(0, 3):\n",
    "        median_ages[i,j] = df[(df['Gender'] == i) & \\\n",
    "                              (df['Pclass'] == j+1)]['Age'].dropna().median()\n",
    "# Fill in missing data with median age of each class\n",
    "df['AgeFill'] = df['Age']\n",
    "for i in range(0, 2):\n",
    "    for j in range(0, 3):\n",
    "        df.loc[ (df.Age.isnull()) & (df.Gender == i) & (df.Pclass == j+1),\\\n",
    "                'AgeFill'] = median_ages[i,j]\n",
    "\n",
    "df['AgeIsNull'] = pd.isnull(df.Age).astype(int)\n",
    "df[ df['Age'].isnull() ][['Gender','Pclass','Age','AgeFill','AgeIsNull']].head(2)"
   ]
  },
  {
   "cell_type": "code",
   "execution_count": 50,
   "metadata": {
    "collapsed": false
   },
   "outputs": [
    {
     "data": {
      "text/plain": [
       "Name        object\n",
       "Sex         object\n",
       "Ticket      object\n",
       "Cabin       object\n",
       "Embarked    object\n",
       "dtype: object"
      ]
     },
     "execution_count": 50,
     "metadata": {},
     "output_type": "execute_result"
    }
   ],
   "source": [
    "df.dtypes[df.dtypes.map(lambda x: x=='object')]"
   ]
  },
  {
   "cell_type": "code",
   "execution_count": 51,
   "metadata": {
    "collapsed": false
   },
   "outputs": [],
   "source": [
    "# Drop columns with non-numeric values\n",
    "df_new = df.drop(['Name', 'Sex', 'Ticket', 'Cabin', 'Embarked', 'Age'], axis=1)"
   ]
  },
  {
   "cell_type": "code",
   "execution_count": 52,
   "metadata": {
    "collapsed": false
   },
   "outputs": [
    {
     "data": {
      "text/html": [
       "<div style=\"max-height:1000px;max-width:1500px;overflow:auto;\">\n",
       "<table border=\"1\" class=\"dataframe\">\n",
       "  <thead>\n",
       "    <tr style=\"text-align: right;\">\n",
       "      <th></th>\n",
       "      <th>PassengerId</th>\n",
       "      <th>Pclass</th>\n",
       "      <th>SibSp</th>\n",
       "      <th>Parch</th>\n",
       "      <th>Fare</th>\n",
       "      <th>Gender</th>\n",
       "      <th>Embarked_Num</th>\n",
       "      <th>AgeFill</th>\n",
       "      <th>AgeIsNull</th>\n",
       "    </tr>\n",
       "  </thead>\n",
       "  <tbody>\n",
       "    <tr>\n",
       "      <th>152</th>\n",
       "      <td> 1044</td>\n",
       "      <td> 3</td>\n",
       "      <td> 0</td>\n",
       "      <td> 0</td>\n",
       "      <td>NaN</td>\n",
       "      <td> 1</td>\n",
       "      <td> 3</td>\n",
       "      <td> 60.5</td>\n",
       "      <td> 0</td>\n",
       "    </tr>\n",
       "  </tbody>\n",
       "</table>\n",
       "</div>"
      ],
      "text/plain": [
       "     PassengerId  Pclass  SibSp  Parch  Fare  Gender  Embarked_Num  AgeFill  \\\n",
       "152         1044       3      0      0   NaN       1             3     60.5   \n",
       "\n",
       "     AgeIsNull  \n",
       "152          0  "
      ]
     },
     "execution_count": 52,
     "metadata": {},
     "output_type": "execute_result"
    }
   ],
   "source": [
    "df_new[df_new.isnull().any(axis=1)]"
   ]
  },
  {
   "cell_type": "code",
   "execution_count": 53,
   "metadata": {
    "collapsed": false
   },
   "outputs": [
    {
     "data": {
      "text/html": [
       "<div style=\"max-height:1000px;max-width:1500px;overflow:auto;\">\n",
       "<table border=\"1\" class=\"dataframe\">\n",
       "  <thead>\n",
       "    <tr style=\"text-align: right;\">\n",
       "      <th></th>\n",
       "      <th>Pclass</th>\n",
       "      <th>SibSp</th>\n",
       "      <th>Parch</th>\n",
       "      <th>Fare</th>\n",
       "      <th>Gender</th>\n",
       "      <th>Embarked_Num</th>\n",
       "      <th>AgeFill</th>\n",
       "      <th>AgeIsNull</th>\n",
       "    </tr>\n",
       "  </thead>\n",
       "  <tbody>\n",
       "    <tr>\n",
       "      <th>0</th>\n",
       "      <td> 3</td>\n",
       "      <td> 0</td>\n",
       "      <td> 0</td>\n",
       "      <td> 7.8292</td>\n",
       "      <td> 1</td>\n",
       "      <td> 2</td>\n",
       "      <td> 34.5</td>\n",
       "      <td> 0</td>\n",
       "    </tr>\n",
       "    <tr>\n",
       "      <th>1</th>\n",
       "      <td> 3</td>\n",
       "      <td> 1</td>\n",
       "      <td> 0</td>\n",
       "      <td> 7.0000</td>\n",
       "      <td> 0</td>\n",
       "      <td> 3</td>\n",
       "      <td> 47.0</td>\n",
       "      <td> 0</td>\n",
       "    </tr>\n",
       "  </tbody>\n",
       "</table>\n",
       "</div>"
      ],
      "text/plain": [
       "   Pclass  SibSp  Parch    Fare  Gender  Embarked_Num  AgeFill  AgeIsNull\n",
       "0       3      0      0  7.8292       1             2     34.5          0\n",
       "1       3      1      0  7.0000       0             3     47.0          0"
      ]
     },
     "execution_count": 53,
     "metadata": {},
     "output_type": "execute_result"
    }
   ],
   "source": [
    "# View rows with missing values\n",
    "df_new[df_new.isnull().any(axis=1)]\n",
    "# Drop rows with missing values\n",
    "if process_train:\n",
    "    df_new = df_new.dropna()\n",
    "# Collect passenger ID before dropping from test dataset\n",
    "if not process_train:\n",
    "    ids = df_new['PassengerId'].values \n",
    "# Drop passenger ID \n",
    "df_new = df_new.drop(['PassengerId'], axis=1)\n",
    "df_new.head(2)"
   ]
  },
  {
   "cell_type": "code",
   "execution_count": 54,
   "metadata": {
    "collapsed": false
   },
   "outputs": [],
   "source": [
    "# Convert pandas table to array\n",
    "if process_train:\n",
    "    train_data = df_new.values\n",
    "else:\n",
    "    test_data = df_new.values\n",
    "    feature_names = list(df_new.columns.values)"
   ]
  },
  {
   "cell_type": "code",
   "execution_count": 55,
   "metadata": {
    "collapsed": false
   },
   "outputs": [],
   "source": [
    "# Impute values for any missing values in test data, since we cannot drop observations in test data\n",
    "from sklearn.preprocessing import Imputer\n",
    "imp = Imputer(missing_values='NaN', strategy='mean', axis=0)\n",
    "test_data = imp.fit_transform(test_data)"
   ]
  },
  {
   "cell_type": "markdown",
   "metadata": {},
   "source": [
    "<h3>Random Forest</h3>"
   ]
  },
  {
   "cell_type": "markdown",
   "metadata": {},
   "source": [
    "A Random Forest is an ensemble of decision trees that output a prediction value (in our case, whether a passenger survives or not). Each decision tree is constructed with a random subset of the training data. "
   ]
  },
  {
   "cell_type": "code",
   "execution_count": 115,
   "metadata": {
    "collapsed": true
   },
   "outputs": [],
   "source": [
    "from sklearn.ensemble import RandomForestClassifier\n",
    "import csv as csv"
   ]
  },
  {
   "cell_type": "code",
   "execution_count": 116,
   "metadata": {
    "collapsed": true
   },
   "outputs": [],
   "source": [
    "# Create random forest object\n",
    "forest = RandomForestClassifier(n_estimators = 100)"
   ]
  },
  {
   "cell_type": "code",
   "execution_count": 124,
   "metadata": {
    "collapsed": false
   },
   "outputs": [],
   "source": [
    "# Fit training data to survived labels and create decision trees\n",
    "X = train_data[0::, 1::]\n",
    "y = train_data[0::, 0]\n",
    "forest = forest.fit(X, y)"
   ]
  },
  {
   "cell_type": "code",
   "execution_count": 120,
   "metadata": {
    "collapsed": false
   },
   "outputs": [],
   "source": [
    "# Run decision trees on test data\n",
    "output = forest.predict(test_data).astype(int)"
   ]
  },
  {
   "cell_type": "code",
   "execution_count": 121,
   "metadata": {
    "collapsed": false
   },
   "outputs": [
    {
     "name": "stdout",
     "output_type": "stream",
     "text": [
      "Done.\n"
     ]
    }
   ],
   "source": [
    "# Write predictons to file\n",
    "predictions_file = open(\"myfirstforest.csv\", \"wb\")\n",
    "open_file_object = csv.writer(predictions_file)\n",
    "open_file_object.writerow([\"PassengerId\",\"Survived\"])\n",
    "open_file_object.writerows(zip(ids, output))\n",
    "predictions_file.close()\n",
    "print 'Done.'"
   ]
  },
  {
   "cell_type": "markdown",
   "metadata": {},
   "source": [
    "<h3>Logistic Regression</h3>"
   ]
  },
  {
   "cell_type": "markdown",
   "metadata": {},
   "source": [
    "Just trying out a different model for fun."
   ]
  },
  {
   "cell_type": "code",
   "execution_count": 36,
   "metadata": {
    "collapsed": true
   },
   "outputs": [],
   "source": [
    "from sklearn import linear_model\n",
    "from sklearn import cross_validation\n",
    "from sklearn.preprocessing import PolynomialFeatures\n",
    "import matplotlib.pyplot as plt\n",
    "%matplotlib inline"
   ]
  },
  {
   "cell_type": "code",
   "execution_count": 150,
   "metadata": {
    "collapsed": false
   },
   "outputs": [
    {
     "name": "stdout",
     "output_type": "stream",
     "text": [
      "(10, 0.79754967307814384)\n",
      "(1.0, 0.79643242556973282)\n",
      "(0.01, 0.66930743350472921)\n"
     ]
    }
   ],
   "source": [
    "# This code is modified version of what I did in DIMACS\n",
    "penalty_type = 'l1'\n",
    "plot = False\n",
    "regs = [10, 1.0, 0.01]\n",
    "for reg in regs:\n",
    "    logreg = linear_model.LogisticRegression(penalty = penalty_type, C=reg)\n",
    "    logreg = logreg.fit(X, y)\n",
    "    scores = cross_validation.cross_val_score(logreg, X, y, cv=5)\n",
    "    mean_cv = sum(scores)/float(len(scores))\n",
    "    print (reg, mean_cv)\n",
    "    \n",
    "    coef = abs(logreg.coef_)\n",
    "    coef = [item for sublist in coef for item in sublist]\n",
    "    coef_np = np.asarray(coef)\n",
    "    top_coef = np.argsort(-coef_np)[:3]\n",
    "    \n",
    "    if plot:\n",
    "        #Plot\n",
    "        ind = np.arange(X.shape[1])  \n",
    "        width = 0.35       \n",
    "        fig, ax = plt.subplots()\n",
    "        rects = ax.bar(ind, coef, width, color='gray')\n",
    "        for index in top_coef:\n",
    "            rects[index].set_color('b')\n",
    "        plt.xticks(range(X.shape[1]))\n",
    "        ax.set_xticklabels(feature_names,rotation=45)\n",
    "        plt.suptitle(\"Feature Coefficients (%s, C=%s)\" %(penalty_type,reg))\n",
    "        ax.annotate('CV Score = %0.4f'%mean_cv, xy=(0,1), xycoords='axes fraction', fontsize=12,\n",
    "                        xytext=(5, -5), textcoords='offset points',\n",
    "                        ha='left', va='top')\n",
    "        plt.show()"
   ]
  },
  {
   "cell_type": "code",
   "execution_count": null,
   "metadata": {
    "collapsed": true
   },
   "outputs": [],
   "source": [
    "logreg.predict(test_data).astype(int)"
   ]
  },
  {
   "cell_type": "code",
   "execution_count": 126,
   "metadata": {
    "collapsed": false
   },
   "outputs": [
    {
     "name": "stdout",
     "output_type": "stream",
     "text": [
      "Done.\n"
     ]
    }
   ],
   "source": [
    "# Write predictons to file\n",
    "predictions_file = open(\"logreg.csv\", \"wb\")\n",
    "open_file_object = csv.writer(predictions_file)\n",
    "open_file_object.writerow([\"PassengerId\",\"Survived\"])\n",
    "open_file_object.writerows(zip(ids, output))\n",
    "predictions_file.close()\n",
    "print 'Done.'"
   ]
  },
  {
   "cell_type": "markdown",
   "metadata": {},
   "source": [
    "<h3>Gradient Boosting</h3>"
   ]
  },
  {
   "cell_type": "markdown",
   "metadata": {},
   "source": [
    "Background reading:  \n",
    "https://www.statsoft.com/Textbook/Boosting-Trees-Regression-Classification/button/1  \n",
    "http://stats.stackexchange.com/questions/77018/random-forest-is-it-a-boosting-algorithm"
   ]
  },
  {
   "cell_type": "code",
   "execution_count": 62,
   "metadata": {
    "collapsed": true
   },
   "outputs": [],
   "source": [
    "from sklearn.ensemble import GradientBoostingClassifier\n",
    "import csv as csv"
   ]
  },
  {
   "cell_type": "code",
   "execution_count": 63,
   "metadata": {
    "collapsed": true
   },
   "outputs": [],
   "source": [
    "boost = GradientBoostingClassifier(n_estimators = 100)\n",
    "X = train_data[0::, 1::]\n",
    "y = train_data[0::, 0]\n",
    "boost = boost.fit(X, y)"
   ]
  },
  {
   "cell_type": "code",
   "execution_count": 69,
   "metadata": {
    "collapsed": false
   },
   "outputs": [
    {
     "name": "stdout",
     "output_type": "stream",
     "text": [
      "(0.5, 0.81890960163432069)\n"
     ]
    },
    {
     "data": {
      "image/png": "[encoded data removed]",
      "text/plain": [
       "<matplotlib.figure.Figure at 0x109c3eb10>"
      ]
     },
     "metadata": {},
     "output_type": "display_data"
    },
    {
     "name": "stdout",
     "output_type": "stream",
     "text": [
      "(0.01, 0.81890960163432069)\n"
     ]
    },
    {
     "data": {
      "image/png": "[encoded data removed]",
      "text/plain": [
       "<matplotlib.figure.Figure at 0x100533b10>"
      ]
     },
     "metadata": {},
     "output_type": "display_data"
    },
    {
     "name": "stdout",
     "output_type": "stream",
     "text": [
      "(0.1, 0.82903472931562816)\n"
     ]
    },
    {
     "data": {
      "image/png": "[encoded data removed]",
      "text/plain": [
       "<matplotlib.figure.Figure at 0x109c3e550>"
      ]
     },
     "metadata": {},
     "output_type": "display_data"
    }
   ],
   "source": [
    "# Use cross-validation to select learning rate\n",
    "# looks like best learning rate is the default value -_-\n",
    "plot = True\n",
    "rates = [0.5, 0.01, 0.1]\n",
    "for r in rates:\n",
    "    boost = GradientBoostingClassifier(n_estimators = 100, learning_rate = r)\n",
    "    boost = boost.fit(X, y)\n",
    "    scores = cross_validation.cross_val_score(boost, X, y, cv=10)\n",
    "    mean_cv = sum(scores)/float(len(scores))\n",
    "    print (r, mean_cv)\n",
    "    \n",
    "    coef = boost.feature_importances_\n",
    "    coef_np = np.asarray(coef)\n",
    "    top_coef = np.argsort(-coef_np)[:3]\n",
    "    \n",
    "    if plot:\n",
    "        #Plot\n",
    "        ind = np.arange(X.shape[1])  \n",
    "        width = 0.35       \n",
    "        fig, ax = plt.subplots()\n",
    "        rects = ax.bar(ind, coef, width, color='gray')\n",
    "        for index in top_coef:\n",
    "            rects[index].set_color('b')\n",
    "        plt.xticks(range(X.shape[1]))\n",
    "        ax.set_xticklabels(feature_names,rotation=45)\n",
    "        plt.suptitle(\"Feature Coefficients (C=%s)\" %(r))\n",
    "        ax.annotate('CV Score = %0.4f'%mean_cv, xy=(0,1), xycoords='axes fraction', fontsize=12,\n",
    "                        xytext=(5, -5), textcoords='offset points',\n",
    "                        ha='left', va='top')\n",
    "        plt.show()"
   ]
  },
  {
   "cell_type": "code",
   "execution_count": 65,
   "metadata": {
    "collapsed": true
   },
   "outputs": [],
   "source": [
    "output = boost.predict(test_data).astype(int)"
   ]
  },
  {
   "cell_type": "code",
   "execution_count": 66,
   "metadata": {
    "collapsed": false
   },
   "outputs": [
    {
     "name": "stdout",
     "output_type": "stream",
     "text": [
      "Done.\n"
     ]
    }
   ],
   "source": [
    "# Write predictons to file\n",
    "predictions_file = open(\"boosting.csv\", \"wb\")\n",
    "open_file_object = csv.writer(predictions_file)\n",
    "open_file_object.writerow([\"PassengerId\",\"Survived\"])\n",
    "open_file_object.writerows(zip(ids, output))\n",
    "predictions_file.close()\n",
    "print 'Done.'"
   ]
  },
  {
   "cell_type": "code",
   "execution_count": null,
   "metadata": {
    "collapsed": true
   },
   "outputs": [],
   "source": []
  }
 ],
 "metadata": {
  "kernelspec": {
   "display_name": "Python 2",
   "language": "python",
   "name": "python2"
  },
  "language_info": {
   "codemirror_mode": {
    "name": "ipython",
    "version": 2
   },
   "file_extension": ".py",
   "mimetype": "text/x-python",
   "name": "python",
   "nbconvert_exporter": "python",
   "pygments_lexer": "ipython2",
   "version": "2.7.9"
  }
 },
 "nbformat": 4,
 "nbformat_minor": 0
}
